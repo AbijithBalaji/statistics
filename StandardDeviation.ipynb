{
 "cells": [
  {
   "cell_type": "code",
   "execution_count": null,
   "metadata": {},
   "outputs": [],
   "source": [
    "marks = [156,160,173,162,154,50]\n",
    "total = 0\n",
    "for n in marks:\n",
    "    total= total + n\n",
    "count = 0\n",
    "for n in marks:\n",
    "    count= count+1\n",
    "print (total/count)"
   ]
  },
  {
   "cell_type": "code",
   "execution_count": null,
   "metadata": {},
   "outputs": [],
   "source": [
    "import numpy as np\n",
    "np.mean(marks)\n",
    "np.std(marks)"
   ]
  },
  {
   "cell_type": "code",
   "execution_count": null,
   "metadata": {},
   "outputs": [],
   "source": [
    "for i in dir(np):\n",
    "    print(i)"
   ]
  },
  {
   "cell_type": "code",
   "execution_count": null,
   "metadata": {},
   "outputs": [],
   "source": [
    "mean = 142.5\n",
    "i = int(input())\n",
    "i-mean"
   ]
  },
  {
   "cell_type": "code",
   "execution_count": null,
   "metadata": {},
   "outputs": [],
   "source": [
    "i = float(input())\n",
    "print(i**2)"
   ]
  },
  {
   "cell_type": "code",
   "execution_count": null,
   "metadata": {},
   "outputs": [],
   "source": [
    "182.25+306.25+930.25+380.25+132.25+8556.25"
   ]
  },
  {
   "cell_type": "code",
   "execution_count": null,
   "metadata": {},
   "outputs": [],
   "source": [
    "10487.5/6\n"
   ]
  },
  {
   "cell_type": "code",
   "execution_count": null,
   "metadata": {},
   "outputs": [],
   "source": [
    "4.01**2"
   ]
  },
  {
   "cell_type": "code",
   "execution_count": null,
   "metadata": {},
   "outputs": [],
   "source": [
    "0.0600/0.01"
   ]
  },
  {
   "cell_type": "markdown",
   "metadata": {},
   "source": [
    "# Script to find Standard Deviation of a list of numbers"
   ]
  },
  {
   "cell_type": "code",
   "execution_count": 66,
   "metadata": {},
   "outputs": [
    {
     "name": "stdout",
     "output_type": "stream",
     "text": [
      "The mean for the given data is  9.0\n",
      "the is  [16.0, 1.0, 25.0, 0.0, 4.0, 9.0, 1.0]\n",
      "56.0\n",
      "8.0\n",
      "2.8284271247461903\n"
     ]
    }
   ],
   "source": [
    "numbers= [13,8,4,9,7,12,10]\n",
    "sq_diff =[]\n",
    "summ, count= 0, 0\n",
    "for m in numbers:\n",
    "    summ = summ + m\n",
    "    count = count + 1\n",
    "print('The mean for the given data is ',summ/count)\n",
    "for m in numbers:\n",
    "    square = (m - summ/count)**2\n",
    "    sq_diff.append(square)\n",
    "print(\"the is \", sq_diff)\n",
    "ssd = 0\n",
    "for i in sq_diff:\n",
    "    ssd = ssd + i\n",
    "print (ssd)\n",
    "variance = ssd/count\n",
    "print(variance)\n",
    "sd = variance**(1/2)\n",
    "print(sd)"
   ]
  },
  {
   "cell_type": "code",
   "execution_count": 65,
   "metadata": {},
   "outputs": [
    {
     "data": {
      "text/plain": [
       "81.64965809277261"
      ]
     },
     "execution_count": 65,
     "metadata": {},
     "output_type": "execute_result"
    }
   ],
   "source": [
    "import numpy as np\n",
    "\n",
    "np.std(numbers)"
   ]
  },
  {
   "cell_type": "code",
   "execution_count": null,
   "metadata": {},
   "outputs": [],
   "source": [
    "count = int(input(\"Enter how many number you have\"))\n",
    "marks = []\n",
    "for i in range(0,count):\n",
    "    k = int(input(\"Enter number\"))\n",
    "    marks.append(k)\n",
    "    \n",
    "print(marks)"
   ]
  },
  {
   "cell_type": "code",
   "execution_count": 47,
   "metadata": {},
   "outputs": [
    {
     "name": "stdout",
     "output_type": "stream",
     "text": [
      "The mean for the given data is  200.0\n",
      "-100\n",
      "0\n",
      "100\n",
      "10000\n",
      "10000\n",
      "10000\n"
     ]
    }
   ],
   "source": [
    "numbers= [100,200,300]\n",
    "#summ, count = int(input()), int(input())\n",
    "summ, count= 0, 0\n",
    "for m in numbers:\n",
    "    summ = summ + m\n",
    "    count = count + 1\n",
    "print('The mean for the given data is ',summ/count)\n",
    "for m in numbers:\n",
    "    diff = m - summ//count\n",
    "    print(diff)\n",
    "for m in numbers:\n",
    "    square = diff**2\n",
    "    print(square)"
   ]
  },
  {
   "cell_type": "code",
   "execution_count": null,
   "metadata": {},
   "outputs": [],
   "source": []
  },
  {
   "cell_type": "code",
   "execution_count": null,
   "metadata": {},
   "outputs": [],
   "source": []
  },
  {
   "cell_type": "code",
   "execution_count": null,
   "metadata": {},
   "outputs": [],
   "source": []
  },
  {
   "cell_type": "code",
   "execution_count": null,
   "metadata": {},
   "outputs": [],
   "source": []
  }
 ],
 "metadata": {
  "kernelspec": {
   "display_name": "Python 3",
   "language": "python",
   "name": "python3"
  },
  "language_info": {
   "codemirror_mode": {
    "name": "ipython",
    "version": 3
   },
   "file_extension": ".py",
   "mimetype": "text/x-python",
   "name": "python",
   "nbconvert_exporter": "python",
   "pygments_lexer": "ipython3",
   "version": "3.8.5"
  }
 },
 "nbformat": 4,
 "nbformat_minor": 4
}
